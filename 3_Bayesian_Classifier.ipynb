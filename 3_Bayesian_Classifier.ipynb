{
 "cells": [
  {
   "cell_type": "code",
   "execution_count": 2,
   "id": "e133e8f7",
   "metadata": {},
   "outputs": [],
   "source": [
    "import pandas as pd\n",
    "import numpy as np \n",
    "from sklearn.model_selection import train_test_split  \n",
    "import warnings\n",
    "warnings.filterwarnings('ignore')"
   ]
  },
  {
   "cell_type": "code",
   "execution_count": 3,
   "id": "4b80b3b4",
   "metadata": {},
   "outputs": [
    {
     "data": {
      "text/html": [
       "<div>\n",
       "<style scoped>\n",
       "    .dataframe tbody tr th:only-of-type {\n",
       "        vertical-align: middle;\n",
       "    }\n",
       "\n",
       "    .dataframe tbody tr th {\n",
       "        vertical-align: top;\n",
       "    }\n",
       "\n",
       "    .dataframe thead th {\n",
       "        text-align: right;\n",
       "    }\n",
       "</style>\n",
       "<table border=\"1\" class=\"dataframe\">\n",
       "  <thead>\n",
       "    <tr style=\"text-align: right;\">\n",
       "      <th></th>\n",
       "      <th>Outlook</th>\n",
       "      <th>Temp</th>\n",
       "      <th>Humidity</th>\n",
       "      <th>Wind</th>\n",
       "      <th>Play</th>\n",
       "    </tr>\n",
       "  </thead>\n",
       "  <tbody>\n",
       "    <tr>\n",
       "      <th>0</th>\n",
       "      <td>Sunny</td>\n",
       "      <td>Hot</td>\n",
       "      <td>High</td>\n",
       "      <td>Weak</td>\n",
       "      <td>No</td>\n",
       "    </tr>\n",
       "    <tr>\n",
       "      <th>1</th>\n",
       "      <td>Sunny</td>\n",
       "      <td>Hot</td>\n",
       "      <td>High</td>\n",
       "      <td>Strong</td>\n",
       "      <td>No</td>\n",
       "    </tr>\n",
       "    <tr>\n",
       "      <th>2</th>\n",
       "      <td>Overcast</td>\n",
       "      <td>Hot</td>\n",
       "      <td>High</td>\n",
       "      <td>Weak</td>\n",
       "      <td>Yes</td>\n",
       "    </tr>\n",
       "    <tr>\n",
       "      <th>3</th>\n",
       "      <td>Rain</td>\n",
       "      <td>Mild</td>\n",
       "      <td>High</td>\n",
       "      <td>Weak</td>\n",
       "      <td>Yes</td>\n",
       "    </tr>\n",
       "    <tr>\n",
       "      <th>4</th>\n",
       "      <td>Rain</td>\n",
       "      <td>Cool</td>\n",
       "      <td>Normal</td>\n",
       "      <td>Weak</td>\n",
       "      <td>Yes</td>\n",
       "    </tr>\n",
       "    <tr>\n",
       "      <th>5</th>\n",
       "      <td>Rain</td>\n",
       "      <td>Cool</td>\n",
       "      <td>Normal</td>\n",
       "      <td>Strong</td>\n",
       "      <td>No</td>\n",
       "    </tr>\n",
       "    <tr>\n",
       "      <th>6</th>\n",
       "      <td>Overcast</td>\n",
       "      <td>Cool</td>\n",
       "      <td>Normal</td>\n",
       "      <td>Strong</td>\n",
       "      <td>Yes</td>\n",
       "    </tr>\n",
       "    <tr>\n",
       "      <th>7</th>\n",
       "      <td>Sunny</td>\n",
       "      <td>Mild</td>\n",
       "      <td>High</td>\n",
       "      <td>Weak</td>\n",
       "      <td>No</td>\n",
       "    </tr>\n",
       "    <tr>\n",
       "      <th>8</th>\n",
       "      <td>Sunny</td>\n",
       "      <td>Cool</td>\n",
       "      <td>Normal</td>\n",
       "      <td>Weak</td>\n",
       "      <td>Yes</td>\n",
       "    </tr>\n",
       "    <tr>\n",
       "      <th>9</th>\n",
       "      <td>Rain</td>\n",
       "      <td>Mild</td>\n",
       "      <td>Normal</td>\n",
       "      <td>Weak</td>\n",
       "      <td>Yes</td>\n",
       "    </tr>\n",
       "    <tr>\n",
       "      <th>10</th>\n",
       "      <td>Sunny</td>\n",
       "      <td>Mild</td>\n",
       "      <td>Normal</td>\n",
       "      <td>Strong</td>\n",
       "      <td>Yes</td>\n",
       "    </tr>\n",
       "    <tr>\n",
       "      <th>11</th>\n",
       "      <td>Overcast</td>\n",
       "      <td>Mild</td>\n",
       "      <td>High</td>\n",
       "      <td>Strong</td>\n",
       "      <td>Yes</td>\n",
       "    </tr>\n",
       "    <tr>\n",
       "      <th>12</th>\n",
       "      <td>Overcast</td>\n",
       "      <td>Hot</td>\n",
       "      <td>Normal</td>\n",
       "      <td>Weak</td>\n",
       "      <td>Yes</td>\n",
       "    </tr>\n",
       "    <tr>\n",
       "      <th>13</th>\n",
       "      <td>Rain</td>\n",
       "      <td>Mild</td>\n",
       "      <td>High</td>\n",
       "      <td>Strong</td>\n",
       "      <td>No</td>\n",
       "    </tr>\n",
       "  </tbody>\n",
       "</table>\n",
       "</div>"
      ],
      "text/plain": [
       "     Outlook  Temp Humidity     Wind Play\n",
       "0      Sunny   Hot     High     Weak   No\n",
       "1      Sunny   Hot     High   Strong   No\n",
       "2   Overcast   Hot     High     Weak  Yes\n",
       "3       Rain  Mild     High     Weak  Yes\n",
       "4       Rain  Cool   Normal     Weak  Yes\n",
       "5       Rain  Cool   Normal   Strong   No\n",
       "6   Overcast  Cool   Normal   Strong  Yes\n",
       "7      Sunny  Mild     High     Weak   No\n",
       "8     Sunny   Cool   Normal     Weak  Yes\n",
       "9       Rain  Mild   Normal     Weak  Yes\n",
       "10     Sunny  Mild   Normal   Strong  Yes\n",
       "11  Overcast  Mild     High  Strong   Yes\n",
       "12  Overcast  Hot    Normal     Weak  Yes\n",
       "13      Rain  Mild     High  Strong    No"
      ]
     },
     "metadata": {},
     "output_type": "display_data"
    }
   ],
   "source": [
    "df=pd.read_csv('datasets/Bayes.csv')\n",
    "display(df)"
   ]
  },
  {
   "cell_type": "code",
   "execution_count": 4,
   "id": "a6452ea1",
   "metadata": {},
   "outputs": [],
   "source": [
    "x=df.drop('Play',axis=1)\n",
    "y=df.Play\n",
    "x_train,x_test,y_train,y_test=train_test_split(x,y,test_size=0.4,random_state=15)"
   ]
  },
  {
   "cell_type": "code",
   "execution_count": 5,
   "id": "1b1a71ff",
   "metadata": {},
   "outputs": [
    {
     "name": "stdout",
     "output_type": "stream",
     "text": [
      "No. of rows in x_train = 8\n",
      "No. of rows in x_test = 6\n"
     ]
    }
   ],
   "source": [
    "c=len(x_train)\n",
    "print('No. of rows in x_train =',c)\n",
    "q=len(x_test)\n",
    "print('No. of rows in x_test =',q)\n",
    "k=len(x_train.columns)"
   ]
  },
  {
   "cell_type": "code",
   "execution_count": 6,
   "id": "504aade9",
   "metadata": {},
   "outputs": [
    {
     "name": "stdout",
     "output_type": "stream",
     "text": [
      "Train data\n",
      "    Outlook  Temp Humidity     Wind\n",
      "0  Overcast  Mild     High  Strong \n",
      "1      Rain  Mild     High     Weak\n",
      "2     Sunny  Mild   Normal   Strong\n",
      "3     Sunny   Hot     High     Weak\n",
      "4     Sunny  Mild     High     Weak\n",
      "5  Overcast  Hot    Normal     Weak\n",
      "6      Rain  Cool   Normal   Strong\n",
      "7    Sunny   Cool   Normal     Weak\n",
      "\n",
      "Test data\n",
      "    Outlook  Temp Humidity     Wind\n",
      "0      Rain  Mild     High  Strong \n",
      "1  Overcast   Hot     High     Weak\n",
      "2      Rain  Mild   Normal     Weak\n",
      "3      Rain  Cool   Normal     Weak\n",
      "4     Sunny   Hot     High   Strong\n",
      "5  Overcast  Cool   Normal   Strong\n"
     ]
    }
   ],
   "source": [
    "x_train.index=range(c)\n",
    "x_test.index=range(q)\n",
    "y_train.index=range(c)\n",
    "y_test.index=range(q)\n",
    "print('Train data')\n",
    "print(x_train)\n",
    "print('\\nTest data')\n",
    "print(x_test)"
   ]
  },
  {
   "cell_type": "code",
   "execution_count": 7,
   "id": "d4a84607",
   "metadata": {},
   "outputs": [],
   "source": [
    "c_n=len(y_train[y_train=='No'])\n",
    "# p_n=c_n/c\n",
    "# print('Probability of Negative class = ',p_n)\n",
    "c_p=len(y_train[y_train=='Yes'])\n",
    "# p_p=c_p/c\n",
    "# print('Probability of Positive class = ',p_p)"
   ]
  },
  {
   "cell_type": "code",
   "execution_count": 8,
   "id": "3b0e3e4d",
   "metadata": {},
   "outputs": [],
   "source": [
    "d_p={}\n",
    "d_n={}\n",
    "x_train['Play']=y_train\n",
    "col=x_train.columns\n",
    "for i in range(k):\n",
    "    l=x_train[col[i]].unique()\n",
    "    for j in l:\n",
    "        d_p[j]=len(x_train[(x_train[col[i]]==j) & (x_train.Play=='Yes')])/c_p\n",
    "        d_n[j]=len(x_train[(x_train[col[i]]==j) & (x_train.Play=='No')])/c_n\n"
   ]
  },
  {
   "cell_type": "code",
   "execution_count": 9,
   "id": "6eee58ae",
   "metadata": {},
   "outputs": [
    {
     "name": "stdout",
     "output_type": "stream",
     "text": [
      "Probability of Negative class for test data =  0.3333333333333333\n",
      "Probability of Positive class for test data =  0.6666666666666666\n"
     ]
    }
   ],
   "source": [
    "c_n=len(y_test[y_test=='No'])\n",
    "p_n=c_n/q\n",
    "print('Probability of Negative class for test data = ',p_n)\n",
    "c_p=len(y_test[y_test=='Yes'])\n",
    "p_p=c_p/q\n",
    "print('Probability of Positive class for test data = ',p_p)"
   ]
  },
  {
   "cell_type": "code",
   "execution_count": 10,
   "id": "4568c33b",
   "metadata": {},
   "outputs": [],
   "source": [
    "res=[]\n",
    "p,n=1,1\n",
    "for i in range(q):\n",
    "    f=x_test.loc[i]\n",
    "    for j in range(k):\n",
    "        p=p*d_p[f[j]]\n",
    "        n=n*d_n[f[j]]\n",
    "    p=p*p_p\n",
    "    n=n*p_n\n",
    "    if p>=n:\n",
    "        res.append('Yes')\n",
    "    else:\n",
    "        res.append('No')"
   ]
  },
  {
   "cell_type": "code",
   "execution_count": 11,
   "id": "47978dfe",
   "metadata": {},
   "outputs": [
    {
     "name": "stdout",
     "output_type": "stream",
     "text": [
      "Accuracy =  0.6666666666666666\n"
     ]
    }
   ],
   "source": [
    "acc=0\n",
    "for i in range(q):\n",
    "    if res[i]==y_test[i]:\n",
    "        acc=acc+1\n",
    "\n",
    "print('Accuracy = ',acc/q)"
   ]
  }
 ],
 "metadata": {
  "kernelspec": {
   "display_name": "Python 3 (ipykernel)",
   "language": "python",
   "name": "python3"
  },
  "language_info": {
   "codemirror_mode": {
    "name": "ipython",
    "version": 3
   },
   "file_extension": ".py",
   "mimetype": "text/x-python",
   "name": "python",
   "nbconvert_exporter": "python",
   "pygments_lexer": "ipython3",
   "version": "3.9.7"
  }
 },
 "nbformat": 4,
 "nbformat_minor": 5
}
